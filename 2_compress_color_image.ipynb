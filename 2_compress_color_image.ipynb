{
 "cells": [
  {
   "cell_type": "markdown",
   "source": [
    "### Task\n",
    "Create a method to compress an RGB image using the T-SVD."
   ],
   "metadata": {
    "collapsed": false,
    "pycharm": {
     "name": "#%% md\n"
    }
   }
  },
  {
   "cell_type": "markdown",
   "source": [
    "***\n",
    "### Import Libraries and functions"
   ],
   "metadata": {
    "collapsed": false
   }
  },
  {
   "cell_type": "code",
   "execution_count": 1,
   "outputs": [],
   "source": [
    "import os\n",
    "import pandas as pd\n",
    "from funcs import perform_compression"
   ],
   "metadata": {
    "collapsed": false,
    "pycharm": {
     "name": "#%%\n",
     "is_executing": false
    }
   }
  },
  {
   "cell_type": "markdown",
   "source": [
    "***\n",
    "### Prepare the Experiment\n",
    "It will be created the parent folder (if it does not exist) and \n",
    "then the folder related to this experiment"
   ],
   "metadata": {
    "collapsed": false
   }
  },
  {
   "cell_type": "code",
   "execution_count": 2,
   "metadata": {
    "collapsed": true,
    "pycharm": {
     "is_executing": false
    }
   },
   "outputs": [],
   "source": [
    "folder_result = \"Result/\"\n",
    "os.makedirs(folder_result, exist_ok=True)\n",
    "folder = folder_result + \"Experiment2/\"\n",
    "os.makedirs(folder, exist_ok=False)"
   ]
  },
  {
   "cell_type": "markdown",
   "source": [
    "It will be define the image to compress (in this case a color image)\n",
    "and the percentage of compression, as a list.<br>\n",
    "In the end, a dictionary to save all the details related to each percentage degree chosen"
   ],
   "metadata": {
    "collapsed": false
   }
  },
  {
   "cell_type": "code",
   "execution_count": 3,
   "outputs": [],
   "source": [
    "image = \"Image_for_SVD_compression/patriot.jpg\"\n",
    "cut_off_percentage = [1, 10, 30, 60, 90]\n",
    "exp = {\"Percentage\": [], \"Retained Dimension\":[],\n",
    "        \"compression_ratio\": [], \"mse\": [], \"ssim\": []}"
   ],
   "metadata": {
    "collapsed": false,
    "pycharm": {
     "name": "#%%\n",
     "is_executing": false
    }
   }
  },
  {
   "cell_type": "markdown",
   "source": [
    "***\n",
    "### Perform the Experiment\n",
    "This is the core of the experiment.<br>\n",
    "For each percentage value (in the list called 'cut_off_percentage') will be \n",
    "performed the compression of the image and it will be saved the resulting images \n",
    "and the details of the compression algorithm"
   ],
   "metadata": {
    "collapsed": false
   }
  },
  {
   "cell_type": "code",
   "execution_count": 4,
   "outputs": [
    {
     "name": "stderr",
     "text": [
      "/Users/federicoimpellizzeri/PycharmProjects/SVD_compression/env/lib/python3.7/site-packages/skimage/metrics/_structural_similarity.py:108: UserWarning: Inputs have mismatched dtype.  Setting data_range based on im1.dtype.\n",
      "  im2[..., ch], **args)\n"
     ],
     "output_type": "stream"
    }
   ],
   "source": [
    "name = (image.split(\"/\")[-1]).split(\".\")[0]\n",
    "for each_k in cut_off_percentage:\n",
    "    _, k, cr, mse, ssim = perform_compression(image_path=image, \n",
    "                                           percentage=each_k,\n",
    "                                           output_path=folder,\n",
    "                                           output_name=name)\n",
    "    exp[\"Percentage\"].append(each_k)\n",
    "    exp[\"Retained Dimension\"].append(k)\n",
    "    exp[\"compression_ratio\"].append(cr)\n",
    "    exp[\"mse\"].append(mse)\n",
    "    exp[\"ssim\"].append(ssim)"
   ],
   "metadata": {
    "collapsed": false,
    "pycharm": {
     "name": "#%%\n",
     "is_executing": false
    }
   }
  },
  {
   "cell_type": "markdown",
   "source": [
    "***\n",
    "### Export Results\n",
    "Then it will be transformed the dictionary of details into a Dataframe \n",
    "created through by 'Pandas' package, for eventual further inspections."
   ],
   "metadata": {
    "collapsed": false
   }
  },
  {
   "cell_type": "code",
   "execution_count": 5,
   "outputs": [
    {
     "name": "stdout",
     "text": [
      "   Percentage  Retained Dimension  compression_ratio          mse      ssim\n",
      "0           1                   3              0.017  3018.759279  0.643046\n",
      "1          10                  30              0.171   284.959367  0.819934\n",
      "2          30                  90              0.513    26.693479  0.960217\n",
      "3          60                 180              1.026     0.888376  0.997602\n",
      "4          90                 270              1.539     0.007403  0.999970\n"
     ],
     "output_type": "stream"
    }
   ],
   "source": [
    "df = pd.DataFrame.from_dict(exp)\n",
    "print(df)\n",
    "df.to_csv(folder+\"experiment2.csv\")"
   ],
   "metadata": {
    "collapsed": false,
    "pycharm": {
     "name": "#%%\n",
     "is_executing": false
    }
   }
  },
  {
   "cell_type": "markdown",
   "source": [
    "Uncomment the following cell to extract in latex format the information \n",
    "related to each step of experiment (each degree of compression)"
   ],
   "metadata": {
    "collapsed": false
   }
  },
  {
   "cell_type": "code",
   "execution_count": 6,
   "outputs": [],
   "source": [
    "#print(df.to_latex(index=False))"
   ],
   "metadata": {
    "collapsed": false,
    "pycharm": {
     "name": "#%% \n",
     "is_executing": false
    }
   }
  }
 ],
 "metadata": {
  "kernelspec": {
   "display_name": "Python 3",
   "language": "python",
   "name": "python3"
  },
  "language_info": {
   "codemirror_mode": {
    "name": "ipython",
    "version": 2
   },
   "file_extension": ".py",
   "mimetype": "text/x-python",
   "name": "python",
   "nbconvert_exporter": "python",
   "pygments_lexer": "ipython2",
   "version": "2.7.6"
  },
  "pycharm": {
   "stem_cell": {
    "cell_type": "raw",
    "source": [],
    "metadata": {
     "collapsed": false
    }
   }
  }
 },
 "nbformat": 4,
 "nbformat_minor": 0
}