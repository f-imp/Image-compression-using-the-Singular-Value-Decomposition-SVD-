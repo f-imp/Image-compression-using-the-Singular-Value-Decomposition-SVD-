{
 "cells": [
  {
   "cell_type": "markdown",
   "source": [
    "Create a method to compress a gray scale image using the T-SVD."
   ],
   "metadata": {
    "collapsed": false
   }
  },
  {
   "cell_type": "code",
   "source": [
    "import os\n",
    "import pandas as pd\n",
    "from funcs import perform_compression"
   ],
   "metadata": {
    "collapsed": false,
    "pycharm": {
     "name": "#%%\n",
     "is_executing": false
    }
   },
   "execution_count": 1,
   "outputs": []
  },
  {
   "cell_type": "code",
   "execution_count": 2,
   "outputs": [
    {
     "name": "stderr",
     "text": [
      "/Users/federicoimpellizzeri/PycharmProjects/SVD_compression/funcs.py:44: UserWarning: Inputs have mismatched dtype.  Setting data_range based on im1.dtype.\n",
      "  SSIM = structural_similarity(img, compressed_image)\n"
     ],
     "output_type": "stream"
    },
    {
     "name": "stdout",
     "text": [
      "   Cut off  compression_ratio          mse      ssim\n",
      "0        1              0.006  4135.817766  0.170478\n",
      "1        2              0.011  3538.369774  0.188018\n",
      "2        8              0.046  1723.053791  0.291666\n",
      "3       16              0.092  1111.930943  0.391934\n",
      "4       64              0.366   345.167965  0.681029\n",
      "5      128              0.732   108.945646  0.853254\n"
     ],
     "output_type": "stream"
    }
   ],
   "source": [
    "folder_result = \"Result/\"\n",
    "os.makedirs(folder_result, exist_ok=True)\n",
    "cut_off = [1,2, 8, 16, 64, 128]\n",
    "image = \"Image_for_SVD_compression/lena.jpg\"\n",
    "name = (image.split(\"/\")[-1]).split(\".\")[0]\n",
    "folder = folder_result + \"Experiment1/\"\n",
    "os.makedirs(folder, exist_ok=False)\n",
    "\n",
    "exp1 = {\"Cut off\": [], \"compression_ratio\": [], \"mse\": [], \"ssim\": []}\n",
    "for each_k in cut_off:\n",
    "    _, cr, mse, ssim = perform_compression(image_path=image, \n",
    "                                           k=each_k,\n",
    "                                           output_path=folder,\n",
    "                                           output_name=name, \n",
    "                                           color_space=\"grey\")\n",
    "    exp1[\"Cut off\"].append(each_k)\n",
    "    exp1[\"compression_ratio\"].append(cr)\n",
    "    exp1[\"mse\"].append(mse)\n",
    "    exp1[\"ssim\"].append(ssim)\n",
    "\n",
    "df = pd.DataFrame.from_dict(exp1)\n",
    "print(df)"
   ],
   "metadata": {
    "collapsed": false,
    "pycharm": {
     "name": "#%%\n",
     "is_executing": false
    }
   }
  }
 ],
 "metadata": {
  "kernelspec": {
   "display_name": "Python 3",
   "language": "python",
   "name": "python3"
  },
  "language_info": {
   "codemirror_mode": {
    "name": "ipython",
    "version": 2
   },
   "file_extension": ".py",
   "mimetype": "text/x-python",
   "name": "python",
   "nbconvert_exporter": "python",
   "pygments_lexer": "ipython2",
   "version": "2.7.6"
  },
  "pycharm": {
   "stem_cell": {
    "cell_type": "raw",
    "source": [],
    "metadata": {
     "collapsed": false
    }
   }
  }
 },
 "nbformat": 4,
 "nbformat_minor": 0
}