{
 "cells": [
  {
   "cell_type": "markdown",
   "source": [
    "Create a method to compress a color image using the T-SVD."
   ],
   "metadata": {
    "collapsed": false,
    "pycharm": {
     "name": "#%% md\n"
    }
   }
  },
  {
   "cell_type": "code",
   "execution_count": 1,
   "outputs": [],
   "source": [
    "import os\n",
    "import pandas as pd\n",
    "from funcs import perform_compression"
   ],
   "metadata": {
    "collapsed": false,
    "pycharm": {
     "name": "#%%\n",
     "is_executing": false
    }
   }
  },
  {
   "cell_type": "code",
   "execution_count": 2,
   "metadata": {
    "collapsed": true,
    "pycharm": {
     "is_executing": false
    }
   },
   "outputs": [
    {
     "name": "stderr",
     "text": [
      "/Users/federicoimpellizzeri/PycharmProjects/SVD_compression/env/lib/python3.7/site-packages/skimage/metrics/_structural_similarity.py:108: UserWarning: Inputs have mismatched dtype.  Setting data_range based on im1.dtype.\n",
      "  im2[..., ch], **args)\n"
     ],
     "output_type": "stream"
    },
    {
     "name": "stdout",
     "text": [
      "   Cut off  compression_ratio           mse      ssim\n",
      "0        1              0.004  17465.054956  0.507089\n",
      "1        2              0.008  11569.749016  0.525100\n",
      "2        8              0.032   2553.883356  0.534573\n",
      "3       16              0.064    970.449695  0.597956\n",
      "4       64              0.256     99.282757  0.854053\n",
      "5      128              0.513     16.029251  0.964718\n"
     ],
     "output_type": "stream"
    }
   ],
   "source": [
    "folder_result = \"Result/\"\n",
    "os.makedirs(folder_result, exist_ok=True)\n",
    "cut_off = [1,2, 8, 16, 64, 128]\n",
    "image = \"Image_for_SVD_compression/itten.jpg\"\n",
    "name = (image.split(\"/\")[-1]).split(\".\")[0]\n",
    "folder = folder_result + \"Experiment2/\"\n",
    "os.makedirs(folder, exist_ok=False)\n",
    "\n",
    "exp = {\"Cut off\": [], \"compression_ratio\": [], \"mse\": [], \"ssim\": []}\n",
    "for each_k in cut_off:\n",
    "    _, cr, mse, ssim = perform_compression(image_path=image, \n",
    "                                           k=each_k,\n",
    "                                           output_path=folder,\n",
    "                                           output_name=name)\n",
    "    exp[\"Cut off\"].append(each_k)\n",
    "    exp[\"compression_ratio\"].append(cr)\n",
    "    exp[\"mse\"].append(mse)\n",
    "    exp[\"ssim\"].append(ssim)\n",
    "\n",
    "df = pd.DataFrame.from_dict(exp)\n",
    "print(df)"
   ]
  }
 ],
 "metadata": {
  "kernelspec": {
   "display_name": "Python 3",
   "language": "python",
   "name": "python3"
  },
  "language_info": {
   "codemirror_mode": {
    "name": "ipython",
    "version": 2
   },
   "file_extension": ".py",
   "mimetype": "text/x-python",
   "name": "python",
   "nbconvert_exporter": "python",
   "pygments_lexer": "ipython2",
   "version": "2.7.6"
  },
  "pycharm": {
   "stem_cell": {
    "cell_type": "raw",
    "source": [],
    "metadata": {
     "collapsed": false
    }
   }
  }
 },
 "nbformat": 4,
 "nbformat_minor": 0
}