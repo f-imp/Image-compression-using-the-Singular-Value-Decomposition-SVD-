{
 "cells": [
  {
   "cell_type": "markdown",
   "source": [
    "Use only SSIM into the compress algorithm so to help select \n",
    "the optimal compression"
   ],
   "metadata": {
    "collapsed": false,
    "pycharm": {
     "name": "#%% md\n"
    }
   }
  },
  {
   "cell_type": "markdown",
   "source": [
    "The optimal compression could be obtained fixing a priori a threshold"
   ],
   "metadata": {
    "collapsed": false,
    "pycharm": {
     "name": "#%% md\n"
    }
   }
  },
  {
   "cell_type": "code",
   "execution_count": 1,
   "outputs": [],
   "source": [
    "import os\n",
    "import pandas as pd\n",
    "from funcs import optimal_compression_threshold"
   ],
   "metadata": {
    "collapsed": false,
    "pycharm": {
     "name": "#%%\n",
     "is_executing": false
    }
   }
  },
  {
   "cell_type": "code",
   "execution_count": 2,
   "outputs": [
    {
     "name": "stderr",
     "text": [
      "/Users/federicoimpellizzeri/PycharmProjects/SVD_compression/funcs.py:66: UserWarning: Inputs have mismatched dtype.  Setting data_range based on im1.dtype.\n",
      "  SSIM = structural_similarity(img, compressed_image)\n"
     ],
     "output_type": "stream"
    },
    {
     "name": "stdout",
     "text": [
      "   cut_off       ssim\n",
      "0        1  17.047754\n",
      "1       10  31.920126\n",
      "2       20  42.863267\n",
      "3       30  50.668046\n",
      "4       40  56.723825\n",
      "5       50  61.924216\n"
     ],
     "output_type": "stream"
    }
   ],
   "source": [
    "folder_result = \"Result/\"\n",
    "os.makedirs(folder_result, exist_ok=True)\n",
    "image = \"Image_for_SVD_compression/lena.jpg\"\n",
    "name = (image.split(\"/\")[-1]).split(\".\")[0]\n",
    "folder = folder_result + \"Experiment3/\"\n",
    "os.makedirs(folder, exist_ok=True)\n",
    "\n",
    "image_compressed, data = optimal_compression_threshold(\n",
    "                            image_path=image,\n",
    "                            output_path=folder,\n",
    "                            output_name=name, \n",
    "                            threshold=60, \n",
    "                            color_space=\"grey\")\n",
    "\n",
    "df = pd.DataFrame.from_dict(data)\n",
    "print(df)"
   ],
   "metadata": {
    "collapsed": false,
    "pycharm": {
     "name": "#%%\n",
     "is_executing": false
    }
   }
  }
 ],
 "metadata": {
  "kernelspec": {
   "display_name": "Python 3",
   "language": "python",
   "name": "python3"
  },
  "language_info": {
   "codemirror_mode": {
    "name": "ipython",
    "version": 2
   },
   "file_extension": ".py",
   "mimetype": "text/x-python",
   "name": "python",
   "nbconvert_exporter": "python",
   "pygments_lexer": "ipython2",
   "version": "2.7.6"
  },
  "pycharm": {
   "stem_cell": {
    "cell_type": "raw",
    "source": [],
    "metadata": {
     "collapsed": false
    }
   }
  }
 },
 "nbformat": 4,
 "nbformat_minor": 0
}