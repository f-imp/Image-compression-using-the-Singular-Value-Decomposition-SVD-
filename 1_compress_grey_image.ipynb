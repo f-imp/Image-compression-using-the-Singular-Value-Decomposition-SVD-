{
 "cells": [
  {
   "cell_type": "markdown",
   "source": [
    "### Task\n",
    "Create a method to compress a gray scale image using the T-SVD."
   ],
   "metadata": {
    "collapsed": false
   }
  },
  {
   "cell_type": "markdown",
   "source": [
    "***\n",
    "### Import Libraries and functions"
   ],
   "metadata": {
    "collapsed": false,
    "pycharm": {
     "name": "#%% md\n"
    }
   }
  },
  {
   "cell_type": "code",
   "source": [
    "import os\n",
    "import pandas as pd\n",
    "from funcs import perform_compression"
   ],
   "metadata": {
    "collapsed": false,
    "pycharm": {
     "name": "#%%\n",
     "is_executing": false
    }
   },
   "execution_count": 1,
   "outputs": []
  },
  {
   "cell_type": "markdown",
   "source": [
    "***\n",
    "### Prepare the Experiment\n",
    "It will be created the parent folder (if it does not exist) and \n",
    "then the folder related to this experiment"
   ],
   "metadata": {
    "collapsed": false,
    "pycharm": {
     "name": "#%% md\n"
    }
   }
  },
  {
   "cell_type": "code",
   "execution_count": 2,
   "outputs": [],
   "source": [
    "folder_result = \"Result/\"\n",
    "os.makedirs(folder_result, exist_ok=True)\n",
    "folder = folder_result + \"Experiment1/\"\n",
    "os.makedirs(folder, exist_ok=False)"
   ],
   "metadata": {
    "collapsed": false,
    "pycharm": {
     "name": "#%%\n",
     "is_executing": false
    }
   }
  },
  {
   "cell_type": "markdown",
   "source": [
    "It will be define the image to compress (in this case a grey image)\n",
    "and the percentage of compression, as a list.<br>\n",
    "In the end, a dictionary to save all the details related to each percentage degree chosen"
   ],
   "metadata": {
    "collapsed": false,
    "pycharm": {
     "name": "#%% md\n"
    }
   }
  },
  {
   "cell_type": "code",
   "execution_count": 3,
   "outputs": [],
   "source": [
    "image = \"Image_for_SVD_compression/lena.jpg\"\n",
    "cut_off_percentage = [1, 10, 30, 60, 90]\n",
    "exp = {\"Percentage\": [], \"Retained Dimension\":[],\n",
    "        \"compression_ratio\": [], \"mse\": [], \"ssim\": []}"
   ],
   "metadata": {
    "collapsed": false,
    "pycharm": {
     "name": "#%%\n",
     "is_executing": false
    }
   }
  },
  {
   "cell_type": "markdown",
   "source": [
    "***\n",
    "### Perform the Experiment\n",
    "This is the core of the experiment.<br>\n",
    "For each percentage value (in the list called 'cut_off_percentage') will be \n",
    "performed the compression of the image and it will be saved the resulting images \n",
    "and the details of the compression algorithm"
   ],
   "metadata": {
    "collapsed": false,
    "pycharm": {
     "name": "#%% md\n"
    }
   }
  },
  {
   "cell_type": "code",
   "execution_count": 4,
   "outputs": [
    {
     "name": "stderr",
     "text": [
      "/Users/federicoimpellizzeri/PycharmProjects/SVD_compression/funcs.py:46: UserWarning: Inputs have mismatched dtype.  Setting data_range based on im1.dtype.\n",
      "  SSIM = structural_similarity(img, compressed_image)\n"
     ],
     "output_type": "stream"
    }
   ],
   "source": [
    "name = (image.split(\"/\")[-1]).split(\".\")[0]\n",
    "for each_k in cut_off_percentage:\n",
    "    _, k, cr, mse, ssim = perform_compression(image_path=image, \n",
    "                                           percentage=each_k,\n",
    "                                           output_path=folder,\n",
    "                                           output_name=name, \n",
    "                                           color_space=\"grey\")\n",
    "    exp[\"Percentage\"].append(each_k)\n",
    "    exp[\"Retained Dimension\"].append(k)\n",
    "    exp[\"compression_ratio\"].append(cr)\n",
    "    exp[\"mse\"].append(mse)\n",
    "    exp[\"ssim\"].append(ssim)"
   ],
   "metadata": {
    "collapsed": false,
    "pycharm": {
     "name": "#%%\n",
     "is_executing": false
    }
   }
  },
  {
   "cell_type": "markdown",
   "source": [
    "***\n",
    "### Export Results\n",
    "Then it will be transformed the dictionary of details into a Dataframe \n",
    "created through by 'Pandas' package, for eventual further inspections."
   ],
   "metadata": {
    "collapsed": false,
    "pycharm": {
     "name": "#%% md\n"
    }
   }
  },
  {
   "cell_type": "code",
   "execution_count": 5,
   "outputs": [
    {
     "name": "stdout",
     "text": [
      "   Percentage  Retained Dimension  compression_ratio          mse      ssim\n",
      "0           1                   3              0.017  2986.955456  0.205135\n",
      "1          10                  30              0.172   725.053631  0.506680\n",
      "2          30                  90              0.515   213.703385  0.767109\n",
      "3          60                 180              1.030    38.643443  0.928651\n",
      "4          90                 270              1.545     1.978944  0.993963\n"
     ],
     "output_type": "stream"
    }
   ],
   "source": [
    "df = pd.DataFrame.from_dict(exp)\n",
    "print(df)\n",
    "df.to_csv(folder+\"experiment1.csv\")"
   ],
   "metadata": {
    "collapsed": false,
    "pycharm": {
     "name": "#%%\n",
     "is_executing": false
    }
   }
  },
  {
   "cell_type": "markdown",
   "source": [
    "Uncomment the following cell to extract in latex format the information \n",
    "related to each step of experiment (each degree of compression)"
   ],
   "metadata": {
    "collapsed": false,
    "pycharm": {
     "name": "#%% md\n"
    }
   }
  },
  {
   "cell_type": "code",
   "execution_count": 6,
   "outputs": [],
   "source": [
    "#print(df.to_latex(index=False))"
   ],
   "metadata": {
    "collapsed": false,
    "pycharm": {
     "name": "#%% \n",
     "is_executing": false
    }
   }
  }
 ],
 "metadata": {
  "kernelspec": {
   "display_name": "Python 3",
   "language": "python",
   "name": "python3"
  },
  "language_info": {
   "codemirror_mode": {
    "name": "ipython",
    "version": 2
   },
   "file_extension": ".py",
   "mimetype": "text/x-python",
   "name": "python",
   "nbconvert_exporter": "python",
   "pygments_lexer": "ipython2",
   "version": "2.7.6"
  },
  "pycharm": {
   "stem_cell": {
    "cell_type": "raw",
    "source": [],
    "metadata": {
     "collapsed": false
    }
   }
  }
 },
 "nbformat": 4,
 "nbformat_minor": 0
}