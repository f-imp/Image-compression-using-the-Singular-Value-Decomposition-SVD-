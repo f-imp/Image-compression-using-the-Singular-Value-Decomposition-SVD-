{
 "cells": [
  {
   "cell_type": "markdown",
   "source": [
    "### Task\n",
    "Use SSIM into the compressor algorithm to select \n",
    "the optimal compression, fixing a threshold which acts on\n",
    "the relative error computed among two consecutive iterations:<br>\n",
    "$ \\hspace{2cm}error (k) - error (k-1) < threshold$"
   ],
   "metadata": {
    "collapsed": false
   }
  },
  {
   "cell_type": "markdown",
   "source": [
    "***\n",
    "### Import Libraries and functions"
   ],
   "metadata": {
    "collapsed": false
   }
  },
  {
   "cell_type": "code",
   "execution_count": 43,
   "outputs": [],
   "source": [
    "import os\n",
    "import pandas as pd\n",
    "from funcs import optimal_compression_relative_error"
   ],
   "metadata": {
    "collapsed": false,
    "pycharm": {
     "name": "#%%\n",
     "is_executing": false
    }
   }
  },
  {
   "cell_type": "markdown",
   "source": [
    "***\n",
    "### Prepare the Experiment\n",
    "It will be created the parent folder (if it does not exist) and \n",
    "then the folder related to this experiment"
   ],
   "metadata": {
    "collapsed": false
   }
  },
  {
   "cell_type": "code",
   "execution_count": 44,
   "outputs": [],
   "source": [
    "folder_result = \"Result/\"\n",
    "os.makedirs(folder_result, exist_ok=True)\n",
    "folder = folder_result + \"Experiment4/\"\n",
    "os.makedirs(folder, exist_ok=True)"
   ],
   "metadata": {
    "collapsed": false,
    "pycharm": {
     "name": "#%%\n",
     "is_executing": false
    }
   }
  },
  {
   "cell_type": "markdown",
   "source": [
    "It will be define the images to compress, the similarity threshold and \n",
    "the stepsize for the iteration process"
   ],
   "metadata": {
    "collapsed": false
   }
  },
  {
   "cell_type": "code",
   "execution_count": 45,
   "outputs": [],
   "source": [
    "images = [[\"Image_for_SVD_compression/lena.jpg\",\"grey\"],\n",
    "          [\"Image_for_SVD_compression/pepperscolor.jpeg\", \"\"]]\n",
    "threshold = 0.1\n",
    "step_value = 5\n",
    "details = []"
   ],
   "metadata": {
    "collapsed": false,
    "pycharm": {
     "name": "#%%\n",
     "is_executing": false
    }
   }
  },
  {
   "cell_type": "markdown",
   "source": [
    "***\n",
    "### Perform the Experiment\n",
    "This is the core of the experiment.<br>\n",
    "It will be performed the compression of the image until the difference among two \n",
    "consecutive iterations exceed the given threshold \n",
    "and it will be saved the best compressed image.\n"
   ],
   "metadata": {
    "collapsed": false
   }
  },
  {
   "cell_type": "code",
   "execution_count": 46,
   "outputs": [
    {
     "name": "stderr",
     "text": [
      "/Users/federicoimpellizzeri/PycharmProjects/SVD_compression/funcs.py:123: UserWarning: Inputs have mismatched dtype.  Setting data_range based on im1.dtype.\n",
      "  SSIM1 = structural_similarity(img, compressed_image1) * 100\n",
      "/Users/federicoimpellizzeri/PycharmProjects/SVD_compression/funcs.py:124: UserWarning: Inputs have mismatched dtype.  Setting data_range based on im1.dtype.\n",
      "  SSIM = structural_similarity(img, compressed_image2) * 100\n",
      "/Users/federicoimpellizzeri/PycharmProjects/SVD_compression/funcs.py:136: UserWarning: Inputs have mismatched dtype.  Setting data_range based on im1.dtype.\n",
      "  SSIM_iteration = structural_similarity(img, compressed_image_iteration) * 100\n",
      "/Users/federicoimpellizzeri/PycharmProjects/SVD_compression/env/lib/python3.7/site-packages/skimage/metrics/_structural_similarity.py:108: UserWarning: Inputs have mismatched dtype.  Setting data_range based on im1.dtype.\n",
      "  im2[..., ch], **args)\n"
     ],
     "output_type": "stream"
    }
   ],
   "source": [
    "for each_image in images:\n",
    "    name = (each_image[0].split(\"/\")[-1]).split(\".\")[0]\n",
    "    image_compressed, data = optimal_compression_relative_error(\n",
    "                                image_path=each_image[0],\n",
    "                                output_path=folder,\n",
    "                                output_name=name, \n",
    "                                threshold_similarity=threshold, \n",
    "                                step=step_value, \n",
    "                                color_space=each_image[1])\n",
    "    details.append([name+\"_\"+each_image[1], data])"
   ],
   "metadata": {
    "collapsed": false,
    "pycharm": {
     "name": "#%%\n",
     "is_executing": false
    }
   }
  },
  {
   "cell_type": "markdown",
   "source": [
    "***\n",
    "### Export Results\n",
    "Then it will be transformed the dictionaries of details into Dataframes\n",
    "created through by 'Pandas' package, for eventual further inspections."
   ],
   "metadata": {
    "collapsed": false,
    "pycharm": {
     "name": "#%% md\n"
    }
   }
  },
  {
   "cell_type": "code",
   "source": [
    "for d in details:\n",
    "    print(\"--> \\t\", d[0])\n",
    "    df = pd.DataFrame.from_dict(d[1])\n",
    "    print(df)\n",
    "    df.to_csv(folder+\"experiment4_\"+d[0]+\".csv\")"
   ],
   "metadata": {
    "collapsed": false,
    "pycharm": {
     "name": "#%%\n",
     "is_executing": false
    }
   },
   "execution_count": 47,
   "outputs": [
    {
     "name": "stdout",
     "text": [
      "--> \t lena_grey\n",
      "   percentage  cut_off   ssim  relative_error\n",
      "0           1        3  20.51        0.000000\n",
      "1           5       15  38.27        0.177552\n",
      "2          10       30  50.67        0.124000\n",
      "3          15       45  59.38        0.087100\n",
      "--> \t pepperscolor_\n",
      "   percentage  cut_off   ssim  relative_error\n",
      "0           1        1  56.07        0.000000\n",
      "1           5        9  77.06        0.209965\n",
      "2          10       19  89.27        0.122100\n",
      "3          15       29  94.70        0.054300\n"
     ],
     "output_type": "stream"
    }
   ]
  },
  {
   "cell_type": "markdown",
   "source": [
    "Uncomment the following cell to extract in latex format the information \n",
    "related to each step of experiment (each degree of compression)"
   ],
   "metadata": {
    "collapsed": false,
    "pycharm": {
     "name": "#%% md\n"
    }
   }
  },
  {
   "cell_type": "code",
   "execution_count": 48,
   "outputs": [],
   "source": [
    "# for each_d in details:\n",
    "#     print(\"--> \\t\", each_d[0])\n",
    "#     df = pd.DataFrame.from_dict(each_d[1])\n",
    "#     print(df.to_latex(index=False))\n",
    "\n"
   ],
   "metadata": {
    "collapsed": false,
    "pycharm": {
     "name": "#%% \n",
     "is_executing": false
    }
   }
  }
 ],
 "metadata": {
  "kernelspec": {
   "display_name": "Python 3",
   "language": "python",
   "name": "python3"
  },
  "language_info": {
   "codemirror_mode": {
    "name": "ipython",
    "version": 2
   },
   "file_extension": ".py",
   "mimetype": "text/x-python",
   "name": "python",
   "nbconvert_exporter": "python",
   "pygments_lexer": "ipython2",
   "version": "2.7.6"
  },
  "pycharm": {
   "stem_cell": {
    "cell_type": "raw",
    "source": [],
    "metadata": {
     "collapsed": false
    }
   }
  }
 },
 "nbformat": 4,
 "nbformat_minor": 0
}