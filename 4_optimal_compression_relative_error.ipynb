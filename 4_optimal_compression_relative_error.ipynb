{
 "cells": [
  {
   "cell_type": "markdown",
   "source": [
    "Use only SSIM into the compress algorithm so to help select \n",
    "the optimal compression"
   ],
   "metadata": {
    "collapsed": false
   }
  },
  {
   "cell_type": "markdown",
   "source": [
    "The optimal compression could be find choosing a threshold and evaluate the error performed in two consecutive iterations\n",
    "\n",
    "error (k) - error (k-1) < threshold"
   ],
   "metadata": {
    "collapsed": false
   }
  },
  {
   "cell_type": "code",
   "execution_count": 3,
   "outputs": [],
   "source": [
    "import os\n",
    "import pandas as pd\n",
    "from funcs import optimal_compression_relative_error"
   ],
   "metadata": {
    "collapsed": false,
    "pycharm": {
     "name": "#%%\n",
     "is_executing": false
    }
   }
  },
  {
   "cell_type": "code",
   "execution_count": 4,
   "outputs": [
    {
     "name": "stderr",
     "text": [
      "/Users/federicoimpellizzeri/PycharmProjects/SVD_compression/funcs.py:108: UserWarning: Inputs have mismatched dtype.  Setting data_range based on im1.dtype.\n",
      "  SSIM1 = structural_similarity(img, compressed_image1) * 100\n",
      "/Users/federicoimpellizzeri/PycharmProjects/SVD_compression/funcs.py:109: UserWarning: Inputs have mismatched dtype.  Setting data_range based on im1.dtype.\n",
      "  SSIM = structural_similarity(img, compressed_image2) * 100\n",
      "/Users/federicoimpellizzeri/PycharmProjects/SVD_compression/funcs.py:121: UserWarning: Inputs have mismatched dtype.  Setting data_range based on im1.dtype.\n",
      "  SSIM_iteration = structural_similarity(img, compressed_image_iteration) * 100\n"
     ],
     "output_type": "stream"
    },
    {
     "name": "stdout",
     "text": [
      "    cut_off_sequence       ssim  relative_error\n",
      "0                  1  17.047754        0.000000\n",
      "1                 10  31.920126        0.148724\n",
      "2                 20  42.863267        0.109431\n",
      "3                 30  50.668046        0.078048\n",
      "4                 40  56.723825        0.060558\n",
      "5                 50  61.924216        0.052004\n",
      "6                 60  66.505514        0.045813\n",
      "7                 70  70.324645        0.038191\n",
      "8                 80  73.755959        0.034313\n",
      "9                 90  76.710925        0.029550\n",
      "10               100  79.352485        0.026416\n",
      "11               110  81.676858        0.023244\n",
      "12               120  83.781152        0.021043\n",
      "13               130  85.661558        0.018804\n",
      "14               140  87.356854        0.016953\n",
      "15               150  88.998634        0.016418\n",
      "16               160  90.393525        0.013949\n",
      "17               170  91.712439        0.013189\n",
      "18               180  92.865074        0.011526\n",
      "19               190  93.949872        0.010848\n",
      "20               200  94.973023        0.010232\n",
      "21               210  95.876602        0.009036\n"
     ],
     "output_type": "stream"
    }
   ],
   "source": [
    "folder_result = \"Result/\"\n",
    "os.makedirs(folder_result, exist_ok=True)\n",
    "image = \"Image_for_SVD_compression/lena.jpg\"\n",
    "name = (image.split(\"/\")[-1]).split(\".\")[0]\n",
    "folder = folder_result + \"Experiment4/\"\n",
    "os.makedirs(folder, exist_ok=True)\n",
    "\n",
    "image_compressed, data = optimal_compression_relative_error(\n",
    "                            image_path=image,\n",
    "                            output_path=folder,\n",
    "                            output_name=name, \n",
    "                            threshold=0.01, \n",
    "                            step=10, \n",
    "                            color_space=\"grey\")\n",
    "\n",
    "df = pd.DataFrame.from_dict(data)\n",
    "print(df)"
   ],
   "metadata": {
    "collapsed": false,
    "pycharm": {
     "name": "#%%\n",
     "is_executing": false
    }
   }
  }
 ],
 "metadata": {
  "kernelspec": {
   "display_name": "Python 3",
   "language": "python",
   "name": "python3"
  },
  "language_info": {
   "codemirror_mode": {
    "name": "ipython",
    "version": 2
   },
   "file_extension": ".py",
   "mimetype": "text/x-python",
   "name": "python",
   "nbconvert_exporter": "python",
   "pygments_lexer": "ipython2",
   "version": "2.7.6"
  },
  "pycharm": {
   "stem_cell": {
    "cell_type": "raw",
    "source": [],
    "metadata": {
     "collapsed": false
    }
   }
  }
 },
 "nbformat": 4,
 "nbformat_minor": 0
}